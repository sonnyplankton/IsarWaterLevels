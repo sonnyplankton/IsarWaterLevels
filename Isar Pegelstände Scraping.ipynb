{
 "cells": [
  {
   "cell_type": "markdown",
   "id": "c259e29c",
   "metadata": {},
   "source": [
    "# Analysing water levels of the river Isar\n",
    "\n",
    "In light of the recent flooding catastrophe with more then 170 dead, my interest sparked in monitoring and maybe predicting the waterlevels of the river in my hometown Munich, the river Isar.\n",
    "\n",
    "In this project you will follow how i refine my workflow and the identification of interesting data data. I will also improve my skills in webscraping with beautiful soup and time series analysis.\n",
    "\n",
    "The project is structured in three main parts:\n",
    "\n",
    "1. Problem formulation and subject understanding\n",
    "2. Datasource identification and webscraping\n",
    "3. Data wrangling and time series analysis"
   ]
  },
  {
   "cell_type": "markdown",
   "id": "35bc8196",
   "metadata": {},
   "source": [
    "## 0. Loading packages"
   ]
  },
  {
   "cell_type": "code",
   "execution_count": 17,
   "id": "a4775d44",
   "metadata": {},
   "outputs": [],
   "source": [
    "import pandas as pd\n",
    "import numpy as np\n",
    "import matplotlib.pyplot as plt\n",
    "from bs4 import BeautifulSoup\n",
    "import urllib.request\n",
    "from datetime import datetime, timedelta\n",
    "from datetime import date\n"
   ]
  },
  {
   "cell_type": "markdown",
   "id": "22176e93",
   "metadata": {},
   "source": [
    "## 1. Problem formulation and subject understanding"
   ]
  },
  {
   "cell_type": "markdown",
   "id": "0c4d9e31",
   "metadata": {},
   "source": [
    "The isar is a 292,3 kilometer long river that originates in the very north of Austria. The river crosses the capital of bavaria Munich until it merges with the Donau river south of Deggendorf. [Source: wikipedia.com/isar]\n",
    "\n"
   ]
  },
  {
   "cell_type": "markdown",
   "id": "4fd61508",
   "metadata": {},
   "source": [
    "## 2. Data Source identification and webscraping"
   ]
  },
  {
   "cell_type": "markdown",
   "id": "8e0b4abb",
   "metadata": {},
   "source": [
    "The bavarian ministry for envoironment runs the so called \"Hochwassernachrichtendienst\" HND where the water levels of several rivers and lakes are provided. Additionally there are information on precipication and others.\n",
    "\n",
    "We focus on scraping the water levels first. The site is structured as follows\n",
    "\n",
    "    Basic Link:           https://www.hnd.bayern.de/pegel/meldestufen/isar/tabellen\n",
    "    Additional Parameter: ?days=0&hours=1\n",
    "\n",
    "We can address the levels per day for the last 30 days while 0 is today and 29 the oldest. The data is provided on an hourly interval from 0 to 23. For now, we don't need the most recent data, but this might change when upgrading to a more sophisticated scraping approach. At the moment we focus on getting a basic scrapping to work."
   ]
  },
  {
   "cell_type": "code",
   "execution_count": 2,
   "id": "dac83f38",
   "metadata": {},
   "outputs": [],
   "source": [
    "#we create two lists for the days and hours we want to scrape.\n",
    "days_scrape  = [i for i in range(1,30)]\n",
    "hours_scrape = [i for i in range(0,24)]"
   ]
  },
  {
   "cell_type": "code",
   "execution_count": 3,
   "id": "1eda31c3",
   "metadata": {},
   "outputs": [],
   "source": [
    "link = \"https://www.hnd.bayern.de/pegel/meldestufen/isar/tabellen?days=0&hours=1\"\n",
    "basic_link = \"https://www.hnd.bayern.de/pegel/meldestufen/isar/tabellen\"\n",
    "dfs = pd.read_html(link)"
   ]
  },
  {
   "cell_type": "markdown",
   "id": "da1e7524",
   "metadata": {},
   "source": [
    "As you can see, pandas 'read_html' class is a very powerful tool to get html tabels quickly into a dataframe. We now automate this approach to scrape the full history of the water levels."
   ]
  },
  {
   "cell_type": "code",
   "execution_count": 4,
   "id": "e5da32be",
   "metadata": {},
   "outputs": [],
   "source": [
    "df_water_levels_scrape = pd.DataFrame()\n",
    "\n",
    "for day in days_scrape:\n",
    "    for hour in hours_scrape:\n",
    "        scrape_link = basic_link + '?days=' + str(day) + '&hours=' + str(hour)\n",
    "        water_level = pd.read_html(scrape_link)\n",
    "        df_water_levels_scrape = df_water_levels_scrape.append(water_level[0])"
   ]
  },
  {
   "cell_type": "code",
   "execution_count": 5,
   "id": "21d91acb",
   "metadata": {},
   "outputs": [],
   "source": [
    "df_water_levels_scrape['Datum Zeit'] = pd.to_datetime(df_water_levels_scrape['Datum Zeit'])"
   ]
  },
  {
   "cell_type": "code",
   "execution_count": 6,
   "id": "0cd834ab",
   "metadata": {},
   "outputs": [
    {
     "output_type": "stream",
     "name": "stdout",
     "text": [
      "<class 'pandas.core.frame.DataFrame'>\nInt64Index: 22272 entries, 0 to 31\nData columns (total 9 columns):\n #   Column                     Non-Null Count  Dtype         \n---  ------                     --------------  -----         \n 0   Messstelle                 22272 non-null  object        \n 1   Gewässer                   22272 non-null  object        \n 2   Datum Zeit                 22272 non-null  datetime64[ns]\n 3   Wasser­stand [cm]          22272 non-null  int64         \n 4   Änderung seit 2 Std. [cm]  22272 non-null  int64         \n 5   Abfluss [m³/s]             22272 non-null  object        \n 6   Melde­stufe                22272 non-null  int64         \n 7   Jähr­lichkeit              22272 non-null  object        \n 8   Vorher­sage                0 non-null      float64       \ndtypes: datetime64[ns](1), float64(1), int64(3), object(4)\nmemory usage: 1.7+ MB\n"
     ]
    }
   ],
   "source": [
    "df_water_levels_scrape.info()"
   ]
  },
  {
   "cell_type": "code",
   "execution_count": 28,
   "id": "5630f237",
   "metadata": {},
   "outputs": [],
   "source": [
    "von_string = str(date.today() - timedelta(days_scrape[-1]))\n",
    "bis_string = str(date.today())\n",
    "\n",
    "save_string = 'isar_pegel' + '_' + von_string +  '_bis_' + bis_string\n",
    "\n",
    "df_water_levels_scrape.to_csv(save_string+'.csv')"
   ]
  },
  {
   "cell_type": "code",
   "execution_count": 22,
   "metadata": {},
   "outputs": [
    {
     "output_type": "execute_result",
     "data": {
      "text/plain": [
       "                    Messstelle         Gewässer          Datum Zeit  \\\n",
       "27                        Berg            Sempt 2021-04-07 23:00:00   \n",
       "28           Eschenlohe Brücke          Loisach 2021-04-07 23:00:00   \n",
       "29                   Starnberg  Starnberger See 2021-04-07 23:00:00   \n",
       "30                      Eching          Windach 2021-04-07 23:00:00   \n",
       "31  Oberfinning Speicherabgabe          Windach 2021-04-07 23:00:00   \n",
       "\n",
       "    Wasser­stand [cm]  Änderung seit 2 Std. [cm] Abfluss [m³/s]  Melde­stufe  \\\n",
       "27                 66                          1            338            0   \n",
       "28                137                          0            149            0   \n",
       "29              58440                          1            ---            0   \n",
       "30                109                          8            424            0   \n",
       "31                 78                          1            407            0   \n",
       "\n",
       "   Jähr­lichkeit  Vorher­sage  \n",
       "27           ---          NaN  \n",
       "28           ---          NaN  \n",
       "29           ---          NaN  \n",
       "30           ---          NaN  \n",
       "31           ---          NaN  "
      ],
      "text/html": "<div>\n<style scoped>\n    .dataframe tbody tr th:only-of-type {\n        vertical-align: middle;\n    }\n\n    .dataframe tbody tr th {\n        vertical-align: top;\n    }\n\n    .dataframe thead th {\n        text-align: right;\n    }\n</style>\n<table border=\"1\" class=\"dataframe\">\n  <thead>\n    <tr style=\"text-align: right;\">\n      <th></th>\n      <th>Messstelle</th>\n      <th>Gewässer</th>\n      <th>Datum Zeit</th>\n      <th>Wasser­stand [cm]</th>\n      <th>Änderung seit 2 Std. [cm]</th>\n      <th>Abfluss [m³/s]</th>\n      <th>Melde­stufe</th>\n      <th>Jähr­lichkeit</th>\n      <th>Vorher­sage</th>\n    </tr>\n  </thead>\n  <tbody>\n    <tr>\n      <th>27</th>\n      <td>Berg</td>\n      <td>Sempt</td>\n      <td>2021-04-07 23:00:00</td>\n      <td>66</td>\n      <td>1</td>\n      <td>338</td>\n      <td>0</td>\n      <td>---</td>\n      <td>NaN</td>\n    </tr>\n    <tr>\n      <th>28</th>\n      <td>Eschenlohe Brücke</td>\n      <td>Loisach</td>\n      <td>2021-04-07 23:00:00</td>\n      <td>137</td>\n      <td>0</td>\n      <td>149</td>\n      <td>0</td>\n      <td>---</td>\n      <td>NaN</td>\n    </tr>\n    <tr>\n      <th>29</th>\n      <td>Starnberg</td>\n      <td>Starnberger See</td>\n      <td>2021-04-07 23:00:00</td>\n      <td>58440</td>\n      <td>1</td>\n      <td>---</td>\n      <td>0</td>\n      <td>---</td>\n      <td>NaN</td>\n    </tr>\n    <tr>\n      <th>30</th>\n      <td>Eching</td>\n      <td>Windach</td>\n      <td>2021-04-07 23:00:00</td>\n      <td>109</td>\n      <td>8</td>\n      <td>424</td>\n      <td>0</td>\n      <td>---</td>\n      <td>NaN</td>\n    </tr>\n    <tr>\n      <th>31</th>\n      <td>Oberfinning Speicherabgabe</td>\n      <td>Windach</td>\n      <td>2021-04-07 23:00:00</td>\n      <td>78</td>\n      <td>1</td>\n      <td>407</td>\n      <td>0</td>\n      <td>---</td>\n      <td>NaN</td>\n    </tr>\n  </tbody>\n</table>\n</div>"
     },
     "metadata": {},
     "execution_count": 22
    }
   ],
   "source": [
    "df_water_levels_scrape.tail()"
   ]
  },
  {
   "cell_type": "code",
   "execution_count": null,
   "metadata": {},
   "outputs": [],
   "source": []
  },
  {
   "cell_type": "code",
   "execution_count": null,
   "metadata": {},
   "outputs": [],
   "source": []
  }
 ],
 "metadata": {
  "kernelspec": {
   "name": "python388jvsc74a57bd0e27770a5904c05f346266c3078d2f1c16671dbcdfa3785635894e45a4a43d3d6",
   "display_name": "Python 3.8.8 64-bit ('base': conda)"
  },
  "language_info": {
   "codemirror_mode": {
    "name": "ipython",
    "version": 3
   },
   "file_extension": ".py",
   "mimetype": "text/x-python",
   "name": "python",
   "nbconvert_exporter": "python",
   "pygments_lexer": "ipython3",
   "version": "3.8.8"
  }
 },
 "nbformat": 4,
 "nbformat_minor": 5
}
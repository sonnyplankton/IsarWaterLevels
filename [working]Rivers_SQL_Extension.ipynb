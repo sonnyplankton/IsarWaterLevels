{
 "cells": [
  {
   "cell_type": "code",
   "execution_count": 132,
   "metadata": {},
   "outputs": [],
   "source": [
    "import pandas as pd\n",
    "import numpy as np"
   ]
  },
  {
   "cell_type": "markdown",
   "metadata": {},
   "source": [
    "## SQL Implementation Workbench\n",
    "\n",
    "I only rarely used SQL with Python before, let alone in a \"non-tutorial\" project. My goal for this piece is to find a more efficient storage solution for the river data, experiment with SQL technologies and hone my SQL programming skills.\n",
    "\n",
    "Get to now Python's built in SQLlite3 module for prototyping a SQL Solution  \n",
    "Migrate the prototype to a Postgres Server  \n",
    "Migrate the prototype to a MySQL Server  \n",
    "Migrate the prototype to a cloud based SQL Server (Azure, Google or AWS) from Python  \n",
    "Migrate the prototype using Azure Data Factory  \n",
    "Hone SQL Programming skills  \n",
    "Explore retrival from SQL to Pandas  "
   ]
  },
  {
   "cell_type": "markdown",
   "metadata": {},
   "source": []
  },
  {
   "cell_type": "markdown",
   "metadata": {},
   "source": []
  },
  {
   "cell_type": "markdown",
   "metadata": {},
   "source": [
    "#seen by https://realpython.com/python-sql-libraries/\n",
    "https://docs.python.org/3/library/sqlite3.html#sqlite3.Cursor.executemany\n",
    "https://www.python-lernen.de/sqlite-datenbank-auslesen.htm"
   ]
  },
  {
   "cell_type": "code",
   "execution_count": 133,
   "metadata": {},
   "outputs": [],
   "source": [
    "using_sql = True"
   ]
  },
  {
   "cell_type": "code",
   "execution_count": 134,
   "metadata": {},
   "outputs": [
    {
     "name": "stdout",
     "output_type": "stream",
     "text": [
      "Connection to SQLite DB successful\n"
     ]
    }
   ],
   "source": [
    "if using_sql == True:\n",
    "    \n",
    "    import sqlite3\n",
    "    from sqlite3 import Error\n",
    "\n",
    "    def create_connection(path):\n",
    "        connection = None\n",
    "        try:\n",
    "            connection = sqlite3.connect(path)\n",
    "            print(\"Connection to SQLite DB successful\")\n",
    "    \n",
    "        except Error as e:\n",
    "    \n",
    "            print(f\"The error '{e}' occurred\")\n",
    "\n",
    "        return connection\n",
    "\n",
    "    connection = create_connection('''E:\\\\sm_app.sqlite''')"
   ]
  },
  {
   "cell_type": "markdown",
   "metadata": {},
   "source": [
    "Create"
   ]
  },
  {
   "cell_type": "markdown",
   "metadata": {},
   "source": [
    "Manipulate"
   ]
  },
  {
   "cell_type": "markdown",
   "metadata": {},
   "source": [
    "Query"
   ]
  },
  {
   "cell_type": "code",
   "execution_count": 135,
   "metadata": {},
   "outputs": [],
   "source": [
    "def execute_query(connection, query):\n",
    "    cursor = connection.cursor()\n",
    "    try:\n",
    "        cursor.execute(query)\n",
    "        connection.commit()\n",
    "        print(\"Query executed successfully\")\n",
    "    except Error as e:\n",
    "        print(f\"The error '{e}' occurred\")"
   ]
  },
  {
   "cell_type": "code",
   "execution_count": 136,
   "metadata": {},
   "outputs": [],
   "source": [
    "create_master_table = \"\"\"\n",
    "CREATE TABLE IF NOT EXISTS master_table (\n",
    "  id INTEGER PRIMARY KEY AUTOINCREMENT,\n",
    "  messstelle            TEXT NOT NULL,\n",
    "  gewässer              TEXT NOT NULL,\n",
    "  datetime              DATETIME,\n",
    "  wasserstand_cm       INT,\n",
    "  änderungen_2std_cm   INT,\n",
    "  abfluss_cm           INT,\n",
    "  meldestufe            TINYINT,\n",
    "  jährlichkeit          INT,\n",
    "  vorhersage            INT\n",
    ");\n",
    "\"\"\""
   ]
  },
  {
   "cell_type": "code",
   "execution_count": 137,
   "metadata": {},
   "outputs": [
    {
     "name": "stdout",
     "output_type": "stream",
     "text": [
      "Query executed successfully\n"
     ]
    }
   ],
   "source": [
    "execute_query(connection, create_master_table)"
   ]
  },
  {
   "cell_type": "code",
   "execution_count": null,
   "metadata": {},
   "outputs": [],
   "source": []
  },
  {
   "cell_type": "code",
   "execution_count": 138,
   "metadata": {},
   "outputs": [],
   "source": [
    "#Load the complete csv to dataframe\n",
    "for file in os.listdir():\n",
    "    if 'bay_river_pegel_' and 'csv' in file:\n",
    "        waterlevel_hist = pd.read_csv(file, parse_dates=True, na_values= '---')\n",
    "        waterlevel_hist.dropna(axis=1, how='all', inplace=True)\n",
    "        break\n",
    "    \n",
    "    else:\n",
    "        waterlevel_hist = None\n"
   ]
  },
  {
   "cell_type": "code",
   "execution_count": 139,
   "metadata": {},
   "outputs": [],
   "source": [
    "waterlevel_hist = waterlevel_hist[waterlevel_hist['gewässer'] == 'Isar']"
   ]
  },
  {
   "cell_type": "code",
   "execution_count": 151,
   "metadata": {},
   "outputs": [
    {
     "data": {
      "text/html": [
       "<div>\n",
       "<style scoped>\n",
       "    .dataframe tbody tr th:only-of-type {\n",
       "        vertical-align: middle;\n",
       "    }\n",
       "\n",
       "    .dataframe tbody tr th {\n",
       "        vertical-align: top;\n",
       "    }\n",
       "\n",
       "    .dataframe thead th {\n",
       "        text-align: right;\n",
       "    }\n",
       "</style>\n",
       "<table border=\"1\" class=\"dataframe\">\n",
       "  <thead>\n",
       "    <tr style=\"text-align: right;\">\n",
       "      <th></th>\n",
       "      <th>messstelle</th>\n",
       "      <th>gewässer</th>\n",
       "      <th>datumzeit</th>\n",
       "      <th>wasser_stand_cm_</th>\n",
       "      <th>änderungseit2std__cm_</th>\n",
       "      <th>abfluss_m__s_</th>\n",
       "      <th>melde_stufe</th>\n",
       "    </tr>\n",
       "  </thead>\n",
       "  <tbody>\n",
       "    <tr>\n",
       "      <th>161</th>\n",
       "      <td>Plattling</td>\n",
       "      <td>Isar</td>\n",
       "      <td>2021-10-04 21:00:00</td>\n",
       "      <td>176.0</td>\n",
       "      <td>1</td>\n",
       "      <td>138.0</td>\n",
       "      <td>0.0</td>\n",
       "    </tr>\n",
       "    <tr>\n",
       "      <th>162</th>\n",
       "      <td>Landau</td>\n",
       "      <td>Isar</td>\n",
       "      <td>2021-10-04 21:00:00</td>\n",
       "      <td>109.0</td>\n",
       "      <td>0</td>\n",
       "      <td>167.0</td>\n",
       "      <td>0.0</td>\n",
       "    </tr>\n",
       "    <tr>\n",
       "      <th>163</th>\n",
       "      <td>Landshut Birket</td>\n",
       "      <td>Isar</td>\n",
       "      <td>2021-10-04 21:00:00</td>\n",
       "      <td>116.0</td>\n",
       "      <td>0</td>\n",
       "      <td>151.0</td>\n",
       "      <td>0.0</td>\n",
       "    </tr>\n",
       "    <tr>\n",
       "      <th>164</th>\n",
       "      <td>Freising</td>\n",
       "      <td>Isar</td>\n",
       "      <td>2021-10-04 21:00:00</td>\n",
       "      <td>29.0</td>\n",
       "      <td>-1</td>\n",
       "      <td>216.0</td>\n",
       "      <td>0.0</td>\n",
       "    </tr>\n",
       "    <tr>\n",
       "      <th>165</th>\n",
       "      <td>München</td>\n",
       "      <td>Isar</td>\n",
       "      <td>2021-10-04 21:00:00</td>\n",
       "      <td>112.0</td>\n",
       "      <td>2</td>\n",
       "      <td>691.0</td>\n",
       "      <td>0.0</td>\n",
       "    </tr>\n",
       "    <tr>\n",
       "      <th>...</th>\n",
       "      <td>...</td>\n",
       "      <td>...</td>\n",
       "      <td>...</td>\n",
       "      <td>...</td>\n",
       "      <td>...</td>\n",
       "      <td>...</td>\n",
       "      <td>...</td>\n",
       "    </tr>\n",
       "    <tr>\n",
       "      <th>262333</th>\n",
       "      <td>Landau</td>\n",
       "      <td>Isar</td>\n",
       "      <td>2021-08-23 00:00:00</td>\n",
       "      <td>121.0</td>\n",
       "      <td>1</td>\n",
       "      <td>206.0</td>\n",
       "      <td>0.0</td>\n",
       "    </tr>\n",
       "    <tr>\n",
       "      <th>262340</th>\n",
       "      <td>Sylvenstein</td>\n",
       "      <td>Isar</td>\n",
       "      <td>2021-08-23 00:00:00</td>\n",
       "      <td>255.0</td>\n",
       "      <td>-1</td>\n",
       "      <td>184.0</td>\n",
       "      <td>0.0</td>\n",
       "    </tr>\n",
       "    <tr>\n",
       "      <th>262341</th>\n",
       "      <td>Lenggries</td>\n",
       "      <td>Isar</td>\n",
       "      <td>2021-08-23 00:00:00</td>\n",
       "      <td>120.0</td>\n",
       "      <td>1</td>\n",
       "      <td>244.0</td>\n",
       "      <td>0.0</td>\n",
       "    </tr>\n",
       "    <tr>\n",
       "      <th>262342</th>\n",
       "      <td>Bad Tölz Brücke</td>\n",
       "      <td>Isar</td>\n",
       "      <td>2021-08-23 00:00:00</td>\n",
       "      <td>75.0</td>\n",
       "      <td>2</td>\n",
       "      <td>NaN</td>\n",
       "      <td>0.0</td>\n",
       "    </tr>\n",
       "    <tr>\n",
       "      <th>262343</th>\n",
       "      <td>Puppling</td>\n",
       "      <td>Isar</td>\n",
       "      <td>2021-08-23 00:00:00</td>\n",
       "      <td>145.0</td>\n",
       "      <td>1</td>\n",
       "      <td>564.0</td>\n",
       "      <td>0.0</td>\n",
       "    </tr>\n",
       "  </tbody>\n",
       "</table>\n",
       "<p>9270 rows × 7 columns</p>\n",
       "</div>"
      ],
      "text/plain": [
       "             messstelle gewässer            datumzeit  wasser_stand_cm_  \\\n",
       "161           Plattling     Isar  2021-10-04 21:00:00             176.0   \n",
       "162              Landau     Isar  2021-10-04 21:00:00             109.0   \n",
       "163     Landshut Birket     Isar  2021-10-04 21:00:00             116.0   \n",
       "164            Freising     Isar  2021-10-04 21:00:00              29.0   \n",
       "165             München     Isar  2021-10-04 21:00:00             112.0   \n",
       "...                 ...      ...                  ...               ...   \n",
       "262333           Landau     Isar  2021-08-23 00:00:00             121.0   \n",
       "262340      Sylvenstein     Isar  2021-08-23 00:00:00             255.0   \n",
       "262341        Lenggries     Isar  2021-08-23 00:00:00             120.0   \n",
       "262342  Bad Tölz Brücke     Isar  2021-08-23 00:00:00              75.0   \n",
       "262343         Puppling     Isar  2021-08-23 00:00:00             145.0   \n",
       "\n",
       "        änderungseit2std__cm_  abfluss_m__s_  melde_stufe  \n",
       "161                         1          138.0          0.0  \n",
       "162                         0          167.0          0.0  \n",
       "163                         0          151.0          0.0  \n",
       "164                        -1          216.0          0.0  \n",
       "165                         2          691.0          0.0  \n",
       "...                       ...            ...          ...  \n",
       "262333                      1          206.0          0.0  \n",
       "262340                     -1          184.0          0.0  \n",
       "262341                      1          244.0          0.0  \n",
       "262342                      2            NaN          0.0  \n",
       "262343                      1          564.0          0.0  \n",
       "\n",
       "[9270 rows x 7 columns]"
      ]
     },
     "execution_count": 151,
     "metadata": {},
     "output_type": "execute_result"
    }
   ],
   "source": [
    "waterlevel_hist"
   ]
  },
  {
   "cell_type": "code",
   "execution_count": 140,
   "metadata": {},
   "outputs": [
    {
     "name": "stdout",
     "output_type": "stream",
     "text": [
      "The error 'near \"00\": syntax error' occurred\n"
     ]
    }
   ],
   "source": [
    "for row in waterlevel_hist.itertuples():\n",
    "      create_observations = ('''\n",
    "                INSERT INTO master_table (messstelle, gewässer, datetime, wasserstand_cm, änderungen_2std_cm, abfluss_cm, meldestufe)\n",
    "                VALUES ({}, {}, {}, {}, {}, {}, {})\n",
    "                '''.format(\n",
    "                row.messstelle,\n",
    "                row.gewässer,\n",
    "                row.datumzeit,\n",
    "                row.wasser_stand_cm_,\n",
    "                row.änderungseit2std__cm_,\n",
    "                row.abfluss_m__s_,\n",
    "                row.melde_stufe\n",
    "                ))  \n",
    "    \n",
    "execute_query(connection, create_observations)\n"
   ]
  },
  {
   "cell_type": "code",
   "execution_count": 141,
   "metadata": {},
   "outputs": [
    {
     "name": "stdout",
     "output_type": "stream",
     "text": [
      "'Mitteldachstetten,Fränkische Rezat,2021-08-23 21:00:00,113,0,010,0,---,'\n"
     ]
    }
   ],
   "source": [
    "print(repr('Mitteldachstetten,Fränkische Rezat,2021-08-23 21:00:00,113,0,010,0,---,'))"
   ]
  },
  {
   "cell_type": "code",
   "execution_count": 142,
   "metadata": {},
   "outputs": [
    {
     "name": "stdout",
     "output_type": "stream",
     "text": [
      "\n",
      "    INSERT INTO master_table (messstelle, gewässer, datetime, wasserstand_cm, änderungen_2std_cm, abfluss_cm, meldestufe)\n",
      "    VALUES (Plattling, Isar, 2021-10-04 21:00:00, 176.0, 1, 138.0, 0.0)\n",
      "    \n",
      "<class 'str'>\n",
      "\n",
      "    INSERT INTO master_table (messstelle, gewässer, datetime, wasserstand_cm, änderungen_2std_cm, abfluss_cm, meldestufe)\n",
      "    VALUES (Landau, Isar, 2021-10-04 21:00:00, 109.0, 0, 167.0, 0.0)\n",
      "    \n",
      "<class 'str'>\n",
      "\n",
      "    INSERT INTO master_table (messstelle, gewässer, datetime, wasserstand_cm, änderungen_2std_cm, abfluss_cm, meldestufe)\n",
      "    VALUES (Landshut Birket, Isar, 2021-10-04 21:00:00, 116.0, 0, 151.0, 0.0)\n",
      "    \n",
      "<class 'str'>\n",
      "\n",
      "    INSERT INTO master_table (messstelle, gewässer, datetime, wasserstand_cm, änderungen_2std_cm, abfluss_cm, meldestufe)\n",
      "    VALUES (Freising, Isar, 2021-10-04 21:00:00, 29.0, -1, 216.0, 0.0)\n",
      "    \n",
      "<class 'str'>\n",
      "\n",
      "    INSERT INTO master_table (messstelle, gewässer, datetime, wasserstand_cm, änderungen_2std_cm, abfluss_cm, meldestufe)\n",
      "    VALUES (München, Isar, 2021-10-04 21:00:00, 112.0, 2, 691.0, 0.0)\n",
      "    \n",
      "<class 'str'>\n",
      "\n",
      "    INSERT INTO master_table (messstelle, gewässer, datetime, wasserstand_cm, änderungen_2std_cm, abfluss_cm, meldestufe)\n",
      "    VALUES (Puppling, Isar, 2021-10-04 21:00:00, 135.0, -1, 470.0, 0.0)\n",
      "    \n",
      "<class 'str'>\n",
      "\n",
      "    INSERT INTO master_table (messstelle, gewässer, datetime, wasserstand_cm, änderungen_2std_cm, abfluss_cm, meldestufe)\n",
      "    VALUES (Bad Tölz Brücke, Isar, 2021-10-04 21:00:00, 70.0, -2, nan, 0.0)\n",
      "    \n",
      "<class 'str'>\n",
      "\n",
      "    INSERT INTO master_table (messstelle, gewässer, datetime, wasserstand_cm, änderungen_2std_cm, abfluss_cm, meldestufe)\n",
      "    VALUES (Lenggries, Isar, 2021-10-04 21:00:00, 115.0, -1, 220.0, 0.0)\n",
      "    \n",
      "<class 'str'>\n",
      "\n",
      "    INSERT INTO master_table (messstelle, gewässer, datetime, wasserstand_cm, änderungen_2std_cm, abfluss_cm, meldestufe)\n",
      "    VALUES (Sylvenstein, Isar, 2021-10-04 21:00:00, 256.0, 0, 226.0, 0.0)\n",
      "    \n",
      "<class 'str'>\n",
      "\n",
      "    INSERT INTO master_table (messstelle, gewässer, datetime, wasserstand_cm, änderungen_2std_cm, abfluss_cm, meldestufe)\n",
      "    VALUES (Plattling, Isar, 2021-10-04 20:00:00, 177.0, 4, 139.0, 0.0)\n",
      "    \n",
      "<class 'str'>\n"
     ]
    }
   ],
   "source": [
    "for row in waterlevel_hist[:10].itertuples():\n",
    "  create_observations = ('''\n",
    "    INSERT INTO master_table (messstelle, gewässer, datetime, wasserstand_cm, änderungen_2std_cm, abfluss_cm, meldestufe)\n",
    "    VALUES ({}, {}, {}, {}, {}, {}, {})\n",
    "    '''.format(\n",
    "        row.messstelle,\n",
    "        str(row.gewässer),\n",
    "        str(row.datumzeit),\n",
    "        row.wasser_stand_cm_,\n",
    "        row.änderungseit2std__cm_,\n",
    "        row.abfluss_m__s_,\n",
    "        row.melde_stufe\n",
    "    ))  \n",
    "\n",
    "  print(create_observations)\n",
    "  print(type(create_observations))"
   ]
  },
  {
   "cell_type": "code",
   "execution_count": 163,
   "metadata": {},
   "outputs": [
    {
     "name": "stdout",
     "output_type": "stream",
     "text": [
      "CPU times: user 3 µs, sys: 2 µs, total: 5 µs\n",
      "Wall time: 8.11 µs\n"
     ]
    }
   ],
   "source": [
    "%time\n",
    "import csv, sqlite3\n",
    "\n",
    "con = sqlite3.connect(\"E\\sm_app.sqlite\") # change to 'sqlite:///your_filename.db'\n",
    "cur = con.cursor()\n",
    "cur.execute(\"\"\"CREATE TABLE IF NOT EXISTS master_table (\n",
    "  messstelle            TEXT NOT NULL,\n",
    "  gewässer              TEXT NOT NULL,\n",
    "  datetime              DATETIME,\n",
    "  wasserstand_cm       INT,\n",
    "  änderungen_2std_cm   INT,\n",
    "  abfluss_cm           INT,\n",
    "  meldestufe            TINYINT,\n",
    "  jährlichkeit          INT,\n",
    "  vorhersage            INT\n",
    ");\"\"\") # use your column names here\n",
    "\n",
    "with open('bay_river_pegel_2021-08-23_bis_2021-10-04.csv','r') as fin: # `with` statement available in 2.5+\n",
    "    # csv.DictReader uses first line in file for column headings by default\n",
    "    dr = csv.DictReader(fin) # comma is default delimiter\n",
    "    to_db = [(i['messstelle'], i['gewässer'], i['datumzeit'], i['wasser_stand_cm_'], \n",
    "              i['änderungseit2std__cm_'], i['abfluss_m__s_'], i['melde_stufe'], i['jähr_lichkeit'], \n",
    "              i['vorher_sage']) for i in dr]\n",
    "\n",
    "cur.executemany(\"INSERT INTO master_table (messstelle, gewässer, datetime, wasserstand_cm, änderungen_2std_cm, abfluss_cm, meldestufe, jährlichkeit, vorhersage) VALUES (?, ?, ? ,?,?,?,?,?,?);\", to_db)\n",
    "con.commit()"
   ]
  },
  {
   "cell_type": "code",
   "execution_count": 164,
   "metadata": {},
   "outputs": [
    {
     "name": "stdout",
     "output_type": "stream",
     "text": [
      "CPU times: user 2 µs, sys: 1e+03 ns, total: 3 µs\n",
      "Wall time: 4.05 µs\n"
     ]
    }
   ],
   "source": [
    "%time\n",
    "import csv, sqlite3\n",
    "\n",
    "con = sqlite3.connect(\"E\\sm_app.sqlite\") # change to 'sqlite:///your_filename.db'\n",
    "cur = con.cursor()\n",
    "cur.execute(\"\"\"CREATE TABLE IF NOT EXISTS master_table (\n",
    "  messstelle            TEXT NOT NULL,\n",
    "  gewässer              TEXT NOT NULL,\n",
    "  datetime              DATETIME,\n",
    "  wasserstand_cm       INT,\n",
    "  änderungen_2std_cm   INT,\n",
    "  abfluss_cm           INT,\n",
    "  meldestufe            TINYINT,\n",
    "  jährlichkeit          INT,\n",
    "  vorhersage            INT\n",
    ");\"\"\") # use your column names here\n",
    "\n",
    "with open('bay_river_pegel_2021-08-23_bis_2021-10-04.csv','r') as fin: # `with` statement available in 2.5+\n",
    "    # csv.DictReader uses first line in file for column headings by default\n",
    "    dr = csv.DictReader(fin) # comma is default delimiter\n",
    "    to_db = [(i['messstelle'], i['gewässer'], i['datumzeit'], i['wasser_stand_cm_'], \n",
    "              i['änderungseit2std__cm_'], i['abfluss_m__s_'], i['melde_stufe'], i['jähr_lichkeit'], \n",
    "              i['vorher_sage']) for i in dr]\n",
    "\n",
    "cur.executemany(\"INSERT INTO master_table (messstelle, gewässer, datetime, wasserstand_cm, änderungen_2std_cm, abfluss_cm, meldestufe) VALUES (?, ?, ? ,?,?,?,?);\", waterlevel_hist.values)\n",
    "con.commit()"
   ]
  },
  {
   "cell_type": "code",
   "execution_count": null,
   "metadata": {},
   "outputs": [],
   "source": []
  },
  {
   "cell_type": "code",
   "execution_count": 144,
   "metadata": {},
   "outputs": [
    {
     "name": "stdout",
     "output_type": "stream",
     "text": [
      "[('Schenkenau', 'Itz'), ('Büg', 'Schwabach'), ('Bad Vilbel', 'Nidda'), ('Arzberg', 'Röslau'), ('Hof', 'Sächsische Saale')]\n"
     ]
    }
   ],
   "source": [
    "cur.execute(\"SELECT messstelle, gewässer FROM master_table LIMIT 5\")\n",
    "inhalt = cur.fetchall()\n",
    "print(inhalt)"
   ]
  },
  {
   "cell_type": "code",
   "execution_count": 145,
   "metadata": {},
   "outputs": [],
   "source": [
    "con.close()"
   ]
  },
  {
   "cell_type": "code",
   "execution_count": 146,
   "metadata": {},
   "outputs": [],
   "source": [
    "with open('bay_river_pegel_2021-08-23_bis_2021-10-04.csv','r') as fin: # `with` statement available in 2.5+\n",
    "    # csv.DictReader uses first line in file for column headings by default\n",
    "    dr = csv.DictReader(fin) # comma is default delimiter\n",
    "    to_db = [(i['messstelle'], i['gewässer'], i['datumzeit'], i['wasser_stand_cm_'], i['änderungseit2std__cm_'], i['abfluss_m__s_'], i['melde_stufe'], i['jähr_lichkeit'], i['vorher_sage']) for i in dr]"
   ]
  },
  {
   "cell_type": "code",
   "execution_count": 170,
   "metadata": {},
   "outputs": [
    {
     "name": "stdout",
     "output_type": "stream",
     "text": [
      "[('Schenkenau', 'Itz', '2021-10-04 21:00:00', '157', '-7', '254', '0', '---', ''), ('Büg', 'Schwabach', '2021-10-04 21:00:00', '166', '1', '026', '0', '---', ''), ('Bad Vilbel', 'Nidda', '2021-10-04 21:00:00', '69', '1', '476', '0', '---', '')]\n"
     ]
    },
    {
     "data": {
      "text/plain": [
       "list"
      ]
     },
     "execution_count": 170,
     "metadata": {},
     "output_type": "execute_result"
    }
   ],
   "source": [
    "print(to_db[:3])\n",
    "type(to_db)"
   ]
  },
  {
   "cell_type": "code",
   "execution_count": 168,
   "metadata": {},
   "outputs": [
    {
     "data": {
      "text/plain": [
       "array([['Plattling', 'Isar', '2021-10-04 21:00:00', 176.0, 1, 138.0, 0.0],\n",
       "       ['Landau', 'Isar', '2021-10-04 21:00:00', 109.0, 0, 167.0, 0.0],\n",
       "       ['Landshut Birket', 'Isar', '2021-10-04 21:00:00', 116.0, 0,\n",
       "        151.0, 0.0]], dtype=object)"
      ]
     },
     "execution_count": 168,
     "metadata": {},
     "output_type": "execute_result"
    }
   ],
   "source": [
    "waterlevel_hist[:3].values"
   ]
  },
  {
   "cell_type": "code",
   "execution_count": null,
   "metadata": {},
   "outputs": [],
   "source": []
  }
 ],
 "metadata": {
  "interpreter": {
   "hash": "6aefd68785b1005555596c47134b1c92bc3b88abc074e6046819eb23ac76f2b3"
  },
  "kernelspec": {
   "display_name": "Python 3.9.6 64-bit ('IsarAnalysis': conda)",
   "name": "python3"
  },
  "language_info": {
   "codemirror_mode": {
    "name": "ipython",
    "version": 3
   },
   "file_extension": ".py",
   "mimetype": "text/x-python",
   "name": "python",
   "nbconvert_exporter": "python",
   "pygments_lexer": "ipython3",
   "version": "3.9.6"
  },
  "orig_nbformat": 4
 },
 "nbformat": 4,
 "nbformat_minor": 2
}

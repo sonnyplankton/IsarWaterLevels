{
 "cells": [
  {
   "cell_type": "markdown",
   "metadata": {},
   "source": [
    "# SQL Workbench for prototyping and testing"
   ]
  },
  {
   "cell_type": "code",
   "execution_count": 1,
   "metadata": {},
   "outputs": [],
   "source": [
    "import sqlite3\n",
    "\n",
    "from sqlite3 import Error\n",
    "\n",
    "def create_connection(path):\n",
    "    connection = None\n",
    "    try:\n",
    "        connection = sqlite3.connect(path)\n",
    "        print(\"Connection to SQLite DB successful\")\n",
    "        \n",
    "    except Error as e:\n",
    "        print(f\"The error '{e}' occurred\")\n",
    "    \n",
    "    return connection"
   ]
  },
  {
   "cell_type": "markdown",
   "metadata": {},
   "source": [
    "First lets install the needed libraries\n",
    "\n",
    "```python\n",
    "import pandas as pd\n",
    "import numpy as np\n",
    "import matplotlib.pyplot as plt\n",
    "```"
   ]
  },
  {
   "cell_type": "code",
   "execution_count": 5,
   "metadata": {},
   "outputs": [
    {
     "name": "stdout",
     "output_type": "stream",
     "text": [
      "Connection to SQLite DB successful\n"
     ]
    }
   ],
   "source": [
    "connection = create_connection(\"E:\\\\test_app.sqlite\")"
   ]
  },
  {
   "cell_type": "code",
   "execution_count": 6,
   "metadata": {},
   "outputs": [],
   "source": [
    "def execute_query(connection, query):\n",
    "    cursor = connection.cursor()\n",
    "    try:\n",
    "        cursor.execute(query)\n",
    "        connection.commit()\n",
    "        print(\"Query executed successfully\")\n",
    "    except Error as e:\n",
    "        print(f\"The error '{e}' occurred\")"
   ]
  },
  {
   "cell_type": "code",
   "execution_count": 7,
   "metadata": {},
   "outputs": [],
   "source": [
    "create_users_table = \"\"\"\n",
    "CREATE TABLE IF NOT EXISTS users (\n",
    "  id INTEGER PRIMARY KEY AUTOINCREMENT,\n",
    "  name TEXT NOT NULL,\n",
    "  age INTEGER,\n",
    "  gender TEXT,\n",
    "  nationality TEXT\n",
    ");\n",
    "\"\"\""
   ]
  },
  {
   "cell_type": "code",
   "execution_count": 8,
   "metadata": {},
   "outputs": [
    {
     "name": "stdout",
     "output_type": "stream",
     "text": [
      "Query executed successfully\n"
     ]
    }
   ],
   "source": [
    "execute_query(connection, create_users_table)"
   ]
  },
  {
   "cell_type": "code",
   "execution_count": 9,
   "metadata": {},
   "outputs": [],
   "source": [
    "create_posts_table = \"\"\"\n",
    "CREATE TABLE IF NOT EXISTS posts(\n",
    "  id INTEGER PRIMARY KEY AUTOINCREMENT, \n",
    "  title TEXT NOT NULL, \n",
    "  description TEXT NOT NULL, \n",
    "  user_id INTEGER NOT NULL, \n",
    "  FOREIGN KEY (user_id) REFERENCES users (id)\n",
    ");\n",
    "\"\"\""
   ]
  },
  {
   "cell_type": "code",
   "execution_count": 10,
   "metadata": {},
   "outputs": [
    {
     "name": "stdout",
     "output_type": "stream",
     "text": [
      "Query executed successfully\n"
     ]
    }
   ],
   "source": [
    "execute_query(connection, create_posts_table)"
   ]
  },
  {
   "cell_type": "code",
   "execution_count": 11,
   "metadata": {},
   "outputs": [
    {
     "name": "stdout",
     "output_type": "stream",
     "text": [
      "Query executed successfully\n",
      "Query executed successfully\n"
     ]
    }
   ],
   "source": [
    "create_comments_table = \"\"\"\n",
    "CREATE TABLE IF NOT EXISTS comments (\n",
    "  id INTEGER PRIMARY KEY AUTOINCREMENT, \n",
    "  text TEXT NOT NULL, \n",
    "  user_id INTEGER NOT NULL, \n",
    "  post_id INTEGER NOT NULL, \n",
    "  FOREIGN KEY (user_id) REFERENCES users (id) FOREIGN KEY (post_id) REFERENCES posts (id)\n",
    ");\n",
    "\"\"\"\n",
    "\n",
    "create_likes_table = \"\"\"\n",
    "CREATE TABLE IF NOT EXISTS likes (\n",
    "  id INTEGER PRIMARY KEY AUTOINCREMENT, \n",
    "  user_id INTEGER NOT NULL, \n",
    "  post_id integer NOT NULL, \n",
    "  FOREIGN KEY (user_id) REFERENCES users (id) FOREIGN KEY (post_id) REFERENCES posts (id)\n",
    ");\n",
    "\"\"\"\n",
    "\n",
    "execute_query(connection, create_comments_table)  \n",
    "execute_query(connection, create_likes_table)            "
   ]
  },
  {
   "cell_type": "code",
   "execution_count": 12,
   "metadata": {},
   "outputs": [],
   "source": [
    "create_users = \"\"\"\n",
    "INSERT INTO\n",
    "  users (name, age, gender, nationality)\n",
    "VALUES\n",
    "  ('James', 25:00:00, 'male', 'USA'),\n",
    "  ('Leila', 32, 'female', 'France'),\n",
    "  ('Brigitte', 35, 'female', 'England'),\n",
    "  ('Mike', 40, 'male', 'Denmark'),\n",
    "  ('Elizabeth', 21, 'female', 'Canada');\n",
    "\"\"\"\n"
   ]
  },
  {
   "cell_type": "code",
   "execution_count": 13,
   "metadata": {},
   "outputs": [
    {
     "name": "stdout",
     "output_type": "stream",
     "text": [
      "\n",
      "INSERT INTO\n",
      "  users (name, age, gender, nationality)\n",
      "VALUES\n",
      "  ('James', 25:00:00, 'male', 'USA'),\n",
      "  ('Leila', 32, 'female', 'France'),\n",
      "  ('Brigitte', 35, 'female', 'England'),\n",
      "  ('Mike', 40, 'male', 'Denmark'),\n",
      "  ('Elizabeth', 21, 'female', 'Canada');\n",
      "\n",
      "<class 'str'>\n"
     ]
    }
   ],
   "source": [
    "print(create_users)\n",
    "print(type(create_users))"
   ]
  },
  {
   "cell_type": "code",
   "execution_count": 14,
   "metadata": {},
   "outputs": [],
   "source": [
    "import csv, sqlite3\n",
    "\n",
    "con = sqlite3.connect(\"E\\sm_app.sqlite\") # change to 'sqlite:///your_filename.db'\n",
    "cur = con.cursor()\n",
    "cur.execute(\"\"\"CREATE TABLE IF NOT EXISTS master_table (\n",
    "  messstelle            TEXT NOT NULL,\n",
    "  gewässer              TEXT NOT NULL,\n",
    "  datetime              DATETIME,\n",
    "  wasserstand_cm       INT,\n",
    "  änderungen_2std_cm   INT,\n",
    "  abfluss_cm           INT,\n",
    "  meldestufe            TINYINT,\n",
    "  jährlichkeit          INT,\n",
    "  vorhersage            INT\n",
    ");\"\"\") # use your column names here\n",
    "\n",
    "with open('bay_river_pegel_2021-08-23_bis_2021-10-04.csv','r') as fin: # `with` statement available in 2.5+\n",
    "    # csv.DictReader uses first line in file for column headings by default\n",
    "    dr = csv.DictReader(fin) # comma is default delimiter\n",
    "    to_db = [(i['messstelle'], i['gewässer'], i['datumzeit'], i['wasser_stand_cm_'], i['änderungseit2std__cm_'], i['abfluss_m__s_'], i['melde_stufe'], i['jähr_lichkeit'], i['vorher_sage']) for i in dr]\n",
    "\n",
    "cur.executemany(\"INSERT INTO master_table (messstelle, gewässer, datetime, wasserstand_cm, änderungen_2std_cm, abfluss_cm, meldestufe, jährlichkeit, vorhersage) VALUES (?, ?, ? ,?,?,?,?,?,?);\", to_db)\n",
    "con.commit()"
   ]
  },
  {
   "cell_type": "code",
   "execution_count": 20,
   "metadata": {},
   "outputs": [],
   "source": [
    "cur.execute(\"SELECT messstelle, gewässer FROM master_table LIMIT 5\")\n",
    "inhalt = cur.fetchall()\n"
   ]
  },
  {
   "cell_type": "code",
   "execution_count": 22,
   "metadata": {},
   "outputs": [
    {
     "ename": "OperationalError",
     "evalue": "no such table: master_table.columns",
     "output_type": "error",
     "traceback": [
      "\u001b[0;31m---------------------------------------------------------------------------\u001b[0m",
      "\u001b[0;31mOperationalError\u001b[0m                          Traceback (most recent call last)",
      "\u001b[0;32m/var/folders/33/vf6wlxpx46v94qd6md3c23jh0000gn/T/ipykernel_28367/2078425852.py\u001b[0m in \u001b[0;36m<module>\u001b[0;34m\u001b[0m\n\u001b[0;32m----> 1\u001b[0;31m cur.execute(''' SELECT Column_name\n\u001b[0m\u001b[1;32m      2\u001b[0m \u001b[0mFROM\u001b[0m \u001b[0mmaster_table\u001b[0m\u001b[0;34m.\u001b[0m\u001b[0mcolumns\u001b[0m\u001b[0;34m\u001b[0m\u001b[0;34m\u001b[0m\u001b[0m\n\u001b[1;32m      3\u001b[0m WHERE Table_name LIKE 'Columns' ''')\n\u001b[1;32m      4\u001b[0m \u001b[0mcolumns_sql\u001b[0m \u001b[0;34m=\u001b[0m \u001b[0mcur\u001b[0m\u001b[0;34m.\u001b[0m\u001b[0mfetchall\u001b[0m\u001b[0;34m(\u001b[0m\u001b[0;34m)\u001b[0m\u001b[0;34m\u001b[0m\u001b[0;34m\u001b[0m\u001b[0m\n\u001b[1;32m      5\u001b[0m \u001b[0mprint\u001b[0m\u001b[0;34m(\u001b[0m\u001b[0mcolumns_sql\u001b[0m\u001b[0;34m)\u001b[0m\u001b[0;34m\u001b[0m\u001b[0;34m\u001b[0m\u001b[0m\n",
      "\u001b[0;31mOperationalError\u001b[0m: no such table: master_table.columns"
     ]
    }
   ],
   "source": [
    "cur.execute(''' SELECT Column_name\n",
    "FROM master_table.columns \n",
    "WHERE Table_name LIKE 'Columns' ''')\n",
    "columns_sql = cur.fetchall()\n",
    "print(columns_sql)"
   ]
  },
  {
   "cell_type": "code",
   "execution_count": 16,
   "metadata": {},
   "outputs": [],
   "source": [
    "import pandas as pd"
   ]
  },
  {
   "cell_type": "code",
   "execution_count": 18,
   "metadata": {},
   "outputs": [],
   "source": [
    "df_inhalt = pd.DataFrame(inhalt)"
   ]
  },
  {
   "cell_type": "code",
   "execution_count": 19,
   "metadata": {},
   "outputs": [
    {
     "data": {
      "text/html": [
       "<div>\n",
       "<style scoped>\n",
       "    .dataframe tbody tr th:only-of-type {\n",
       "        vertical-align: middle;\n",
       "    }\n",
       "\n",
       "    .dataframe tbody tr th {\n",
       "        vertical-align: top;\n",
       "    }\n",
       "\n",
       "    .dataframe thead th {\n",
       "        text-align: right;\n",
       "    }\n",
       "</style>\n",
       "<table border=\"1\" class=\"dataframe\">\n",
       "  <thead>\n",
       "    <tr style=\"text-align: right;\">\n",
       "      <th></th>\n",
       "      <th>0</th>\n",
       "      <th>1</th>\n",
       "    </tr>\n",
       "  </thead>\n",
       "  <tbody>\n",
       "    <tr>\n",
       "      <th>0</th>\n",
       "      <td>Schenkenau</td>\n",
       "      <td>Itz</td>\n",
       "    </tr>\n",
       "    <tr>\n",
       "      <th>1</th>\n",
       "      <td>Büg</td>\n",
       "      <td>Schwabach</td>\n",
       "    </tr>\n",
       "    <tr>\n",
       "      <th>2</th>\n",
       "      <td>Bad Vilbel</td>\n",
       "      <td>Nidda</td>\n",
       "    </tr>\n",
       "    <tr>\n",
       "      <th>3</th>\n",
       "      <td>Arzberg</td>\n",
       "      <td>Röslau</td>\n",
       "    </tr>\n",
       "    <tr>\n",
       "      <th>4</th>\n",
       "      <td>Hof</td>\n",
       "      <td>Sächsische Saale</td>\n",
       "    </tr>\n",
       "  </tbody>\n",
       "</table>\n",
       "</div>"
      ],
      "text/plain": [
       "            0                 1\n",
       "0  Schenkenau               Itz\n",
       "1         Büg         Schwabach\n",
       "2  Bad Vilbel             Nidda\n",
       "3     Arzberg            Röslau\n",
       "4         Hof  Sächsische Saale"
      ]
     },
     "execution_count": 19,
     "metadata": {},
     "output_type": "execute_result"
    }
   ],
   "source": [
    "df_inhalt"
   ]
  },
  {
   "cell_type": "code",
   "execution_count": null,
   "metadata": {},
   "outputs": [],
   "source": []
  }
 ],
 "metadata": {
  "interpreter": {
   "hash": "540a4d095e993f27b9008664929b11b54688fe09ae24a435bfc3df0f7da3dc19"
  },
  "kernelspec": {
   "display_name": "Python 3.8.8 64-bit ('base': conda)",
   "name": "python3"
  },
  "language_info": {
   "codemirror_mode": {
    "name": "ipython",
    "version": 3
   },
   "file_extension": ".py",
   "mimetype": "text/x-python",
   "name": "python",
   "nbconvert_exporter": "python",
   "pygments_lexer": "ipython3",
   "version": "3.8.8"
  },
  "orig_nbformat": 4
 },
 "nbformat": 4,
 "nbformat_minor": 2
}
